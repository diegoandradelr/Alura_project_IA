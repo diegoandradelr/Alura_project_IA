{
  "nbformat": 4,
  "nbformat_minor": 0,
  "metadata": {
    "colab": {
      "provenance": []
    },
    "kernelspec": {
      "name": "python3",
      "display_name": "Python 3"
    },
    "language_info": {
      "name": "python"
    }
  },
  "cells": [
    {
      "cell_type": "code",
      "execution_count": 1,
      "metadata": {
        "colab": {
          "base_uri": "https://localhost:8080/"
        },
        "id": "h21FQu1vRs0m",
        "outputId": "0907ee61-4abd-4f2a-cb7a-baf8564b4cd5"
      },
      "outputs": [
        {
          "output_type": "stream",
          "name": "stdout",
          "text": [
            "Requirement already satisfied: google-genai in /usr/local/lib/python3.11/dist-packages (1.15.0)\n",
            "Requirement already satisfied: anyio<5.0.0,>=4.8.0 in /usr/local/lib/python3.11/dist-packages (from google-genai) (4.9.0)\n",
            "Requirement already satisfied: google-auth<3.0.0,>=2.14.1 in /usr/local/lib/python3.11/dist-packages (from google-genai) (2.38.0)\n",
            "Requirement already satisfied: httpx<1.0.0,>=0.28.1 in /usr/local/lib/python3.11/dist-packages (from google-genai) (0.28.1)\n",
            "Requirement already satisfied: pydantic<3.0.0,>=2.0.0 in /usr/local/lib/python3.11/dist-packages (from google-genai) (2.11.4)\n",
            "Requirement already satisfied: requests<3.0.0,>=2.28.1 in /usr/local/lib/python3.11/dist-packages (from google-genai) (2.32.3)\n",
            "Requirement already satisfied: websockets<15.1.0,>=13.0.0 in /usr/local/lib/python3.11/dist-packages (from google-genai) (15.0.1)\n",
            "Requirement already satisfied: typing-extensions<5.0.0,>=4.11.0 in /usr/local/lib/python3.11/dist-packages (from google-genai) (4.13.2)\n",
            "Requirement already satisfied: idna>=2.8 in /usr/local/lib/python3.11/dist-packages (from anyio<5.0.0,>=4.8.0->google-genai) (3.10)\n",
            "Requirement already satisfied: sniffio>=1.1 in /usr/local/lib/python3.11/dist-packages (from anyio<5.0.0,>=4.8.0->google-genai) (1.3.1)\n",
            "Requirement already satisfied: cachetools<6.0,>=2.0.0 in /usr/local/lib/python3.11/dist-packages (from google-auth<3.0.0,>=2.14.1->google-genai) (5.5.2)\n",
            "Requirement already satisfied: pyasn1-modules>=0.2.1 in /usr/local/lib/python3.11/dist-packages (from google-auth<3.0.0,>=2.14.1->google-genai) (0.4.2)\n",
            "Requirement already satisfied: rsa<5,>=3.1.4 in /usr/local/lib/python3.11/dist-packages (from google-auth<3.0.0,>=2.14.1->google-genai) (4.9.1)\n",
            "Requirement already satisfied: certifi in /usr/local/lib/python3.11/dist-packages (from httpx<1.0.0,>=0.28.1->google-genai) (2025.4.26)\n",
            "Requirement already satisfied: httpcore==1.* in /usr/local/lib/python3.11/dist-packages (from httpx<1.0.0,>=0.28.1->google-genai) (1.0.9)\n",
            "Requirement already satisfied: h11>=0.16 in /usr/local/lib/python3.11/dist-packages (from httpcore==1.*->httpx<1.0.0,>=0.28.1->google-genai) (0.16.0)\n",
            "Requirement already satisfied: annotated-types>=0.6.0 in /usr/local/lib/python3.11/dist-packages (from pydantic<3.0.0,>=2.0.0->google-genai) (0.7.0)\n",
            "Requirement already satisfied: pydantic-core==2.33.2 in /usr/local/lib/python3.11/dist-packages (from pydantic<3.0.0,>=2.0.0->google-genai) (2.33.2)\n",
            "Requirement already satisfied: typing-inspection>=0.4.0 in /usr/local/lib/python3.11/dist-packages (from pydantic<3.0.0,>=2.0.0->google-genai) (0.4.0)\n",
            "Requirement already satisfied: charset-normalizer<4,>=2 in /usr/local/lib/python3.11/dist-packages (from requests<3.0.0,>=2.28.1->google-genai) (3.4.2)\n",
            "Requirement already satisfied: urllib3<3,>=1.21.1 in /usr/local/lib/python3.11/dist-packages (from requests<3.0.0,>=2.28.1->google-genai) (2.4.0)\n",
            "Requirement already satisfied: pyasn1<0.7.0,>=0.6.1 in /usr/local/lib/python3.11/dist-packages (from pyasn1-modules>=0.2.1->google-auth<3.0.0,>=2.14.1->google-genai) (0.6.1)\n"
          ]
        }
      ],
      "source": [
        "!pip install google-genai"
      ]
    },
    {
      "cell_type": "code",
      "source": [
        "from google import genai\n",
        "import os\n",
        "from google.colab import userdata"
      ],
      "metadata": {
        "id": "RkclixkJTUKu"
      },
      "execution_count": 7,
      "outputs": []
    },
    {
      "cell_type": "code",
      "source": [
        "os.environ['CHAVE_API_GEMINI_ALR '] = userdata.get('CHAVE_API_GEMINI_ALR')"
      ],
      "metadata": {
        "id": "qEcNnUxdTUPP"
      },
      "execution_count": 27,
      "outputs": []
    },
    {
      "cell_type": "code",
      "source": [
        "client = genai.Client()"
      ],
      "metadata": {
        "id": "NSJwL04sTURH"
      },
      "execution_count": 32,
      "outputs": []
    },
    {
      "cell_type": "code",
      "source": [
        "api_keys = os.environ.get('CHAVE_API_GEMINI_ALR')"
      ],
      "metadata": {
        "id": "utjfTlVTfTzu"
      },
      "execution_count": 29,
      "outputs": []
    },
    {
      "cell_type": "code",
      "source": [
        "for model in client.models.list():\n",
        "    print(model.name)"
      ],
      "metadata": {
        "colab": {
          "base_uri": "https://localhost:8080/"
        },
        "id": "6d25C9WAfT2u",
        "outputId": "2cb89ada-ea4b-4434-a526-21d1a8ade1d8"
      },
      "execution_count": 30,
      "outputs": [
        {
          "output_type": "stream",
          "name": "stdout",
          "text": [
            "models/embedding-gecko-001\n",
            "models/gemini-1.0-pro-vision-latest\n",
            "models/gemini-pro-vision\n",
            "models/gemini-1.5-pro-latest\n",
            "models/gemini-1.5-pro-001\n",
            "models/gemini-1.5-pro-002\n",
            "models/gemini-1.5-pro\n",
            "models/gemini-1.5-flash-latest\n",
            "models/gemini-1.5-flash-001\n",
            "models/gemini-1.5-flash-001-tuning\n",
            "models/gemini-1.5-flash\n",
            "models/gemini-1.5-flash-002\n",
            "models/gemini-1.5-flash-8b\n",
            "models/gemini-1.5-flash-8b-001\n",
            "models/gemini-1.5-flash-8b-latest\n",
            "models/gemini-1.5-flash-8b-exp-0827\n",
            "models/gemini-1.5-flash-8b-exp-0924\n",
            "models/gemini-2.5-pro-exp-03-25\n",
            "models/gemini-2.5-pro-preview-03-25\n",
            "models/gemini-2.5-flash-preview-04-17\n",
            "models/gemini-2.5-flash-preview-04-17-thinking\n",
            "models/gemini-2.5-pro-preview-05-06\n",
            "models/gemini-2.0-flash-exp\n",
            "models/gemini-2.0-flash\n",
            "models/gemini-2.0-flash-001\n",
            "models/gemini-2.0-flash-exp-image-generation\n",
            "models/gemini-2.0-flash-lite-001\n",
            "models/gemini-2.0-flash-lite\n",
            "models/gemini-2.0-flash-preview-image-generation\n",
            "models/gemini-2.0-flash-lite-preview-02-05\n",
            "models/gemini-2.0-flash-lite-preview\n",
            "models/gemini-2.0-pro-exp\n",
            "models/gemini-2.0-pro-exp-02-05\n",
            "models/gemini-exp-1206\n",
            "models/gemini-2.0-flash-thinking-exp-01-21\n",
            "models/gemini-2.0-flash-thinking-exp\n",
            "models/gemini-2.0-flash-thinking-exp-1219\n",
            "models/learnlm-2.0-flash-experimental\n",
            "models/gemma-3-1b-it\n",
            "models/gemma-3-4b-it\n",
            "models/gemma-3-12b-it\n",
            "models/gemma-3-27b-it\n",
            "models/embedding-001\n",
            "models/text-embedding-004\n",
            "models/gemini-embedding-exp-03-07\n",
            "models/gemini-embedding-exp\n",
            "models/aqa\n",
            "models/imagen-3.0-generate-002\n",
            "models/gemini-2.0-flash-live-001\n"
          ]
        }
      ]
    },
    {
      "cell_type": "code",
      "source": [
        "modelo = \"gemini-2.0-flash\"\n",
        "\n",
        "resposta = client.models.generate_content(model=modelo,\n",
        "                                          contents=\"Quem é a empresa por trás dos modelos Gemini?\")"
      ],
      "metadata": {
        "id": "q9eoqQwjfT5M"
      },
      "execution_count": 36,
      "outputs": []
    },
    {
      "cell_type": "code",
      "source": [
        "resposta.text"
      ],
      "metadata": {
        "colab": {
          "base_uri": "https://localhost:8080/",
          "height": 36
        },
        "id": "i-pJapzafvUg",
        "outputId": "b4c20fb2-23ea-4246-c133-80b0983dc353"
      },
      "execution_count": 38,
      "outputs": [
        {
          "output_type": "execute_result",
          "data": {
            "text/plain": [
              "'A empresa por trás dos modelos Gemini é o **Google**. Especificamente, o Gemini é um produto do Google AI.\\n'"
            ],
            "application/vnd.google.colaboratory.intrinsic+json": {
              "type": "string"
            }
          },
          "metadata": {},
          "execution_count": 38
        }
      ]
    },
    {
      "cell_type": "code",
      "source": [
        "modelo = \"gemini-2.0-flash\"\n",
        "\n",
        "response = client.models.generate_content(model=modelo,\n",
        "                                          contents=\"Qual o melhor time de pernambuco?\")\n",
        "\n",
        "print(\"Aqui está a resposta: {}\".format(response.text))"
      ],
      "metadata": {
        "colab": {
          "base_uri": "https://localhost:8080/"
        },
        "id": "lhIM7R1Jf414",
        "outputId": "90f278c1-3a37-4ab7-ce4a-91af44e6e971"
      },
      "execution_count": 42,
      "outputs": [
        {
          "output_type": "stream",
          "name": "stdout",
          "text": [
            "Aqui está a resposta: Determinar o \"melhor\" time é sempre uma questão de opinião, pois depende dos critérios que você considera mais importantes. No entanto, posso te apresentar os principais times de Pernambuco e seus feitos recentes para você formar sua própria opinião:\n",
            "\n",
            "*   **Sport Club do Recife:** Possui a maior torcida do estado e é o clube pernambucano com mais títulos nacionais, incluindo um Campeonato Brasileiro (1987) e uma Copa do Brasil (2008). É um dos clubes mais tradicionais do Nordeste e do Brasil.\n",
            "\n",
            "*   **Santa Cruz Futebol Clube:** Tem uma grande torcida e é conhecido por sua história rica e apaixonada. Já conquistou diversos títulos estaduais e um Campeonato Brasileiro da Série C (2013).\n",
            "\n",
            "*   **Clube Náutico Capibaribe:** Também com uma torcida expressiva, o Náutico possui uma história de tradição e rivalidades acirradas com Sport e Santa Cruz. Foi hexacampeão pernambucano na década de 1960.\n",
            "\n",
            "**Para analisar o \"melhor\" time, você pode considerar:**\n",
            "\n",
            "*   **Títulos:** Qual time tem mais títulos no geral? Qual time tem os títulos mais importantes (nacionais, internacionais)?\n",
            "*   **Desempenho recente:** Qual time tem tido o melhor desempenho nos últimos campeonatos estaduais e nacionais?\n",
            "*   **Estrutura:** Qual time tem a melhor estrutura para treinamento, categorias de base e gestão?\n",
            "*   **Torcida:** Qual time tem a maior e mais engajada torcida?\n",
            "\n",
            "Se você busca o time com mais títulos e maior expressão nacional, o **Sport** se destaca. No entanto, **Santa Cruz** e **Náutico** também possuem torcidas apaixonadas e histórias marcantes no futebol pernambucano.\n",
            "\n",
            "Para uma análise mais precisa, sugiro que você pesquise os resultados e classificações dos campeonatos mais recentes, compare os elencos e as estruturas dos clubes, e veja qual deles se encaixa melhor nos seus critérios de \"melhor time\".\n"
          ]
        }
      ]
    },
    {
      "cell_type": "code",
      "source": [
        "import requests\n",
        "import os\n",
        "from google.colab import userdata\n",
        "\n",
        "import requests\n",
        "import os\n",
        "from google.colab import userdata\n",
        "\n",
        "api_key = userdata.get('EXCHANGERATE_API_KEY')\n",
        "api_url = f\"https://economia.awesomeapi.com.br/json/last/USD-BRL\"\n",
        "\n",
        "try:\n",
        "    response = requests.get(api_url)\n",
        "\n",
        "    response.raise_for_status()\n",
        "\n",
        "    data = response.json()\n",
        "\n",
        "    if data[\"result\"] == \"success\":\n",
        "        cotacao_dolar_real = data[\"conversion_rate\"]\n",
        "        print(f\"A cotação do dólar em relação ao real é: {cotacao_dolar_real}\")\n",
        "    else:\n",
        "        print(f\"Erro na resposta da API: {data['error-type']}\")\n",
        "\n",
        "except requests.exceptions.RequestException as e:\n",
        "    print(f\"Erro ao chamar a API: {e}\")\n",
        "except KeyError:\n",
        "    print(\"Não foi possível encontrar os dados esperados na resposta da API.\")\n",
        "except Exception as e:\n",
        "    print(f\"Ocorreu um erro: {e}\")\n",
        "    # Faz a requisição para a API\n",
        "    response = requests.get(api_url)\n"
      ],
      "metadata": {
        "id": "hd6uBfoalTnm"
      },
      "execution_count": null,
      "outputs": []
    },
    {
      "cell_type": "code",
      "source": [],
      "metadata": {
        "id": "aRHqjGGtlTvU"
      },
      "execution_count": null,
      "outputs": []
    }
  ]
}